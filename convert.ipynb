{
 "cells": [
  {
   "cell_type": "code",
   "execution_count": 25,
   "metadata": {},
   "outputs": [],
   "source": [
    "import json\n",
    "import chardet\n",
    "\n",
    "# Определение кодировки файла\n",
    "with open('D:/all.json', 'rb') as f:\n",
    "    raw_data = f.read()\n",
    "    result = chardet.detect(raw_data)\n",
    "    encoding = result['encoding']\n",
    "\n",
    "# Загрузка данных из JSON-файла с определенной кодировкой\n",
    "with open('D:/all.json', 'r', encoding=encoding) as f:\n",
    "    data = json.load(f)\n",
    "\n",
    "# Обработка данных и создание нового формата\n",
    "new_data = []\n",
    "for image_id, image_data in data['_via_img_metadata'].items():\n",
    "    filename = image_data['filename']\n",
    "    regions = []\n",
    "    for region in image_data['regions']:\n",
    "        shape_attributes = region['shape_attributes']\n",
    "        region_attributes = region['region_attributes']\n",
    "        points_x = shape_attributes['all_points_x']\n",
    "        points_y = shape_attributes['all_points_y']\n",
    "        vertebra = region_attributes.get('verteba', {})\n",
    "        spine_disc = region_attributes.get('spine disc', {})\n",
    "        region_data = {\n",
    "            'points_x': points_x,\n",
    "            'points_y': points_y,\n",
    "            'verteba': vertebra,\n",
    "            'spine_disc': spine_disc\n",
    "        }\n",
    "        regions.append(region_data)\n",
    "    image_info = {\n",
    "        'filename': filename,\n",
    "        'regions': regions\n",
    "    }\n",
    "    new_data.append(image_info)\n",
    "\n",
    "# Сохранение результатов в новый файл в формате JSON\n",
    "with open('D:/json1.json', 'w', encoding='utf-8') as f:\n",
    "    json.dump(new_data, f, ensure_ascii=False, indent=4)\n"
   ]
  }
 ],
 "metadata": {
  "kernelspec": {
   "display_name": "Python 3",
   "language": "python",
   "name": "python3"
  },
  "language_info": {
   "codemirror_mode": {
    "name": "ipython",
    "version": 3
   },
   "file_extension": ".py",
   "mimetype": "text/x-python",
   "name": "python",
   "nbconvert_exporter": "python",
   "pygments_lexer": "ipython3",
   "version": "3.10.11"
  },
  "orig_nbformat": 4
 },
 "nbformat": 4,
 "nbformat_minor": 2
}
